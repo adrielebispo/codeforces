{
  "nbformat": 4,
  "nbformat_minor": 0,
  "metadata": {
    "colab": {
      "provenance": [],
      "authorship_tag": "ABX9TyNc+CnH3Pylk+wk5D0ooBSA",
      "include_colab_link": true
    },
    "kernelspec": {
      "name": "python3",
      "display_name": "Python 3"
    },
    "language_info": {
      "name": "python"
    }
  },
  "cells": [
    {
      "cell_type": "markdown",
      "metadata": {
        "id": "view-in-github",
        "colab_type": "text"
      },
      "source": [
        "<a href=\"https://colab.research.google.com/github/adrielebispo/codeforces/blob/main/hash_map_hash_set_.ipynb\" target=\"_parent\"><img src=\"https://colab.research.google.com/assets/colab-badge.svg\" alt=\"Open In Colab\"/></a>"
      ]
    },
    {
      "cell_type": "markdown",
      "source": [
        "# Questão 1: Jewels and stones"
      ],
      "metadata": {
        "id": "uUeRoIYq2OWr"
      }
    },
    {
      "cell_type": "markdown",
      "source": [
        "Solução 1"
      ],
      "metadata": {
        "id": "0UDcD6j02WK7"
      }
    },
    {
      "cell_type": "code",
      "execution_count": null,
      "metadata": {
        "id": "brpsZgE9112K"
      },
      "outputs": [],
      "source": [
        "jewels = \"z\" #size n\n",
        "stones = \"ZZ\" #size m\n",
        "\n",
        "count = 0\n",
        "\n",
        "for jewel in jewels: # n\n",
        "  for stone in stones: # m\n",
        "    if jewel == stone:\n",
        "      count += 1\n",
        "print(count)\n",
        "\n",
        "# aqui o bigO da solução é mxn\n",
        "\n"
      ]
    },
    {
      "cell_type": "markdown",
      "source": [
        "Solução 2"
      ],
      "metadata": {
        "id": "isLC2trR2ZHU"
      }
    },
    {
      "cell_type": "code",
      "source": [
        "jewels = \"aA\"\n",
        "stones = \"aAAbbbb\"\n",
        "#aqui crio o meu set\n",
        "jewel_set = set()\n",
        "#aqui add as joias no meu set\n",
        "for jewel in jewels:\n",
        "  jewel_set.add(jewel)\n",
        "count = 0\n",
        "# aqui percorro o array stones e vejo quantas pedras são joias pelo set, pois é mais rápido\n",
        "for stone in stones: #bigO(n)\n",
        "  if stone in jewel_set: #aqui é bigO (1)\n",
        "    count += 1\n",
        "print(count)\n",
        "\n",
        "#SET É MAIS VANTAJOSO, POIS OLHAR SE EXISTE UM ITEM NO SET É O(n)"
      ],
      "metadata": {
        "id": "4iolAGVQ1_oz"
      },
      "execution_count": null,
      "outputs": []
    },
    {
      "cell_type": "markdown",
      "source": [
        "# Questão 2: Contains Duplicates"
      ],
      "metadata": {
        "id": "8z_nl-sb2IA2"
      }
    },
    {
      "cell_type": "markdown",
      "source": [
        "Solução 1"
      ],
      "metadata": {
        "id": "BrI8vcLZ3iM7"
      }
    },
    {
      "cell_type": "code",
      "source": [
        "nums = [1,2,3,1]\n",
        "def solution(nums):\n",
        "  nums.sort() #bigO(nlogn)\n",
        "  for i in range(len(nums)): #bigO(n)\n",
        "    if i > 0 and nums[i-1] == nums[i]:\n",
        "      return True\n",
        "  return False\n",
        "print(solution(nums))"
      ],
      "metadata": {
        "colab": {
          "base_uri": "https://localhost:8080/"
        },
        "id": "dEq5_OhS3Ntp",
        "outputId": "f91923a3-0bb5-47c0-b053-51056e0445c4"
      },
      "execution_count": 6,
      "outputs": [
        {
          "output_type": "stream",
          "name": "stdout",
          "text": [
            "True\n"
          ]
        }
      ]
    },
    {
      "cell_type": "markdown",
      "source": [
        "Solução 2:"
      ],
      "metadata": {
        "id": "AEnh4JzH3j6D"
      }
    },
    {
      "cell_type": "code",
      "source": [
        "nums = [1,2,3,1]\n",
        "\n",
        "def solution(nums):\n",
        "  count = {}\n",
        "  for num in nums: #bigO(n)\n",
        "    if num not in count:\n",
        "      count[num] = 0\n",
        "    count[num] += 1\n",
        "\n",
        "  for val in count.values():\n",
        "    if val >= 2:\n",
        "      return(True)\n",
        "  return(False)\n",
        "print(solution(nums))"
      ],
      "metadata": {
        "colab": {
          "base_uri": "https://localhost:8080/"
        },
        "id": "zVkcX17r2GE6",
        "outputId": "7d397ffc-c232-4084-edf9-a9c2f1070ba0"
      },
      "execution_count": 5,
      "outputs": [
        {
          "output_type": "stream",
          "name": "stdout",
          "text": [
            "True\n"
          ]
        }
      ]
    },
    {
      "cell_type": "markdown",
      "source": [
        "**Solução 3**\n",
        "\n",
        "Crio um set e vou adicionando os numeros.\n",
        "- Se o numero ja estiver no set, ja retorno True\n",
        "- Se não retorno falso\n",
        "\n",
        "Essa solução é melhor que o hash map, pois eu não preciso dar o numero de repetidos, apenas ver se ele se repete ou não. Logo nesse caso set é melhor"
      ],
      "metadata": {
        "id": "My1RXWq45cad"
      }
    },
    {
      "cell_type": "code",
      "source": [
        "nums = [1,2,3,1]\n",
        "\n",
        "def solution(nums):\n",
        "  num_set = set()\n",
        "  for num in nums: #bigO(n)\n",
        "    if num in num_set:\n",
        "      return True\n",
        "    num_set.add(num)\n",
        "  return False\n",
        "\n",
        "print(solution(nums))"
      ],
      "metadata": {
        "colab": {
          "base_uri": "https://localhost:8080/"
        },
        "id": "bmZvTTxj5ffh",
        "outputId": "764a4040-d314-49c1-e6d3-85f41ee52eff"
      },
      "execution_count": 10,
      "outputs": [
        {
          "output_type": "stream",
          "name": "stdout",
          "text": [
            "True\n"
          ]
        }
      ]
    },
    {
      "cell_type": "markdown",
      "source": [
        "# Questão 3: Ransom Note"
      ],
      "metadata": {
        "id": "Nuvr84rU7nQZ"
      }
    },
    {
      "cell_type": "markdown",
      "source": [
        "Solução 1: one hashmap"
      ],
      "metadata": {
        "id": "KIZ7oUrkONyY"
      }
    },
    {
      "cell_type": "code",
      "source": [
        "ransomNote = \"aa\"\n",
        "magazine = \"ab\"\n",
        "def canConstruct(ransomNote, magazine):\n",
        "  dicionarioMag = {}\n",
        "  for letra in magazine:\n",
        "    if not letra in dicionarioMag:\n",
        "      dicionarioMag[letra] = 1\n",
        "    else:\n",
        "      dicionarioMag[letra] += 1\n",
        "\n",
        "  for letra in ransomNote:\n",
        "    if not letra in dicionarioMag or dicionarioMag[letra] == 0:\n",
        "      return False\n",
        "    dicionarioMag[letra] -= 1\n",
        "\n",
        "  return True\n",
        "print(canConstruct(ransomNote, magazine))\n"
      ],
      "metadata": {
        "colab": {
          "base_uri": "https://localhost:8080/"
        },
        "id": "LVZWZTkJOMgN",
        "outputId": "33140e8a-6345-473b-88ba-07006a39277f"
      },
      "execution_count": 13,
      "outputs": [
        {
          "output_type": "stream",
          "name": "stdout",
          "text": [
            "False\n"
          ]
        }
      ]
    },
    {
      "cell_type": "markdown",
      "source": [
        "Solução 2:\n",
        "\n",
        "Preciso contar quantas letras tem no texto de Ransom e quantas letras existem em magazine.\n",
        "\n",
        "- Se magazine tiver o mesmo numero de cada letra ou mais. Retorno True\n",
        "- Se não retorno False"
      ],
      "metadata": {
        "id": "zxLsQ5gH72FL"
      }
    },
    {
      "cell_type": "code",
      "source": [
        "ransomNote = \"aa\"\n",
        "magazine = \"ab\"\n",
        "\n",
        "def canConstruct(ransomNote, magazine):\n",
        "  # For each character, letter,  in the ransom note.\n",
        "  for letter in ransomNote:\n",
        "    # If there are none of letter left in the String, return False.\n",
        "    if letter not in magazine:\n",
        "      return False\n",
        "    # Find the index of the first occurrence of letter in the magazine.\n",
        "    location = magazine.index(letter)\n",
        "    # Use slicing to make a new string with the characters\n",
        "    # before \"location\" (but not including), and the characters\n",
        "    #after \"location\".\n",
        "    magazine = magazine[:location] + magazine[location + 1:]\n",
        "  # If we got this far, we can successfully build the note.\n",
        "  return True\n",
        "print(canConstruct(ransomNote, magazine))"
      ],
      "metadata": {
        "colab": {
          "base_uri": "https://localhost:8080/"
        },
        "id": "umSMIvFN7mDK",
        "outputId": "0a536e12-1ed6-4308-cfd6-5f0ba40553b1"
      },
      "execution_count": 12,
      "outputs": [
        {
          "output_type": "stream",
          "name": "stdout",
          "text": [
            "False\n"
          ]
        }
      ]
    },
    {
      "cell_type": "markdown",
      "source": [
        "Solução 3: Two hashmaps"
      ],
      "metadata": {
        "id": "ayb110unQtDU"
      }
    },
    {
      "cell_type": "code",
      "source": [
        "ransomNote = \"aa\"\n",
        "magazine = \"ab\"\n",
        "\n",
        "def canConstruct(ransomNote, magazine):\n",
        "\n",
        "  # Check for obvious fail case.\n",
        "  if len(ransomNote) > len(magazine): return False\n",
        "\n",
        "  # In Python, we can use the Counter class. It does all the work that the\n",
        "  # makeCountsMap(...) function in our pseudocode did!\n",
        "  magazine_counts = {}\n",
        "  ransom_note_counts = {}\n",
        "\n",
        "  for char in ransomNote:\n",
        "    if char not in ransom_note_counts:\n",
        "      ransom_note_counts[char] = 0\n",
        "    ransom_note_counts[char] += 1\n",
        "\n",
        "  for char in magazine:\n",
        "    if char not in magazine_counts:\n",
        "      magazine_counts[char] = 0\n",
        "    magazine_counts[char] += 1\n",
        "\n",
        "  # For each *unique* character in the ransom note:\n",
        "  for char, count in ransom_note_counts.items():\n",
        "    # Check that the count of char in the magazine is equal\n",
        "    # or higher than the count in the ransom note.\n",
        "    magazine_count = magazine_counts[char]\n",
        "    if magazine_count < count:\n",
        "      return False\n",
        "\n",
        "  # If we got this far, we can successfully build the note.\n",
        "  return True\n",
        "\n",
        "print(canConstruct(ransomNote, magazine))"
      ],
      "metadata": {
        "colab": {
          "base_uri": "https://localhost:8080/"
        },
        "id": "RqpA3HLmPyfs",
        "outputId": "449808ad-0038-42e2-f86d-288972f6b14f"
      },
      "execution_count": 14,
      "outputs": [
        {
          "output_type": "stream",
          "name": "stdout",
          "text": [
            "False\n"
          ]
        }
      ]
    },
    {
      "cell_type": "markdown",
      "source": [
        "Solução 4: Stack"
      ],
      "metadata": {
        "id": "C_BI0jfxSxFC"
      }
    },
    {
      "cell_type": "code",
      "source": [
        "def canConstruct(self, ransomNote: str, magazine: str) -> bool:\n",
        "\n",
        "    # Check for obvious fail case.\n",
        "    if len(ransomNote) > len(magazine): return False\n",
        "\n",
        "    # Reverse sort the note and magazine. In Python, we simply\n",
        "    # treat a list as a stack.\n",
        "    ransomNote = sorted(ransomNote, reverse=True)\n",
        "    magazine = sorted(magazine, reverse=True)\n",
        "\n",
        "    # While there are letters left on both stacks:\n",
        "    while ransomNote and magazine:\n",
        "        # If the tops are the same, pop both because we have found a match.\n",
        "        if ransomNote[-1] == magazine[-1]:\n",
        "            ransomNote.pop()\n",
        "            magazine.pop()\n",
        "        # If magazine's top is earlier in the alphabet, we should remove that\n",
        "        # character of magazine as we definitely won't need that letter.\n",
        "        elif magazine[-1] < ransomNote[-1]:\n",
        "            magazine.pop()\n",
        "        # Otherwise, it's impossible for top of ransomNote to be in magazine.\n",
        "        else:\n",
        "            return False\n",
        "    # Return true iff the entire ransomNote was built.\n",
        "    return not ransomNote"
      ],
      "metadata": {
        "id": "UbAVrsIFSpLT"
      },
      "execution_count": null,
      "outputs": []
    },
    {
      "cell_type": "markdown",
      "source": [
        "# Questão 4: Valid Anagram"
      ],
      "metadata": {
        "id": "hmb_PhTpTEiY"
      }
    },
    {
      "cell_type": "markdown",
      "source": [
        "Solução 1:\n",
        "Dar sort nas duas strings e comparar se são iguais"
      ],
      "metadata": {
        "id": "kMvWXWpUX15X"
      }
    },
    {
      "cell_type": "code",
      "source": [
        "s = \"anagram\"\n",
        "t = \"nagaram\"\n",
        "def solution(s, t):\n",
        "  if len(s) != len(t):\n",
        "    return False\n",
        "  list_s = [x for x in s]\n",
        "  list_t = [x for x in t]\n",
        "\n",
        "  list_s.sort()\n",
        "  list_t.sort()\n",
        "  if list_s == list_t:\n",
        "    return True\n",
        "  return False\n",
        "print(solution(s, t))"
      ],
      "metadata": {
        "colab": {
          "base_uri": "https://localhost:8080/"
        },
        "id": "zs1C1N1DX1iD",
        "outputId": "1654f228-d35a-40cf-99de-e99f769ec0e4"
      },
      "execution_count": 25,
      "outputs": [
        {
          "output_type": "stream",
          "name": "stdout",
          "text": [
            "True\n"
          ]
        }
      ]
    },
    {
      "cell_type": "markdown",
      "source": [
        "Solução 2:\n",
        "\n",
        "Não posso usar set, pois pode ter um caso tipo \"aacc\" e \"ccac\", onde os sets seriam iguais, porém o numero de letras diferentes"
      ],
      "metadata": {
        "id": "e4In5tfLUiqE"
      }
    },
    {
      "cell_type": "code",
      "source": [
        "s = \"anagram\"\n",
        "t = \"nagaram\"\n",
        "# pode possuir qualquer valor de letras pares, mas apenas uma letra ímpar\n",
        "def solution(s, t):\n",
        "  if len(s) != len(t):\n",
        "    return False\n",
        "  s_hashmap = {}\n",
        "  t_hashmap = {}\n",
        "  for letter in s:\n",
        "    if letter not in s_hashmap:\n",
        "      s_hashmap[letter] = 0\n",
        "    s_hashmap[letter] += 1\n",
        "\n",
        "  for letter in t:\n",
        "    if letter not in t_hashmap:\n",
        "      t_hashmap[letter] = 0\n",
        "    t_hashmap[letter] += 1\n",
        "\n",
        "  if s_hashmap == t_hashmap:\n",
        "    return True\n",
        "  return False\n",
        "\n",
        "print(solution(s, t))"
      ],
      "metadata": {
        "colab": {
          "base_uri": "https://localhost:8080/"
        },
        "id": "KMVLREnOTHdB",
        "outputId": "e9307273-96ce-4a36-fd82-6c11a7ed2de0"
      },
      "execution_count": 17,
      "outputs": [
        {
          "output_type": "stream",
          "name": "stdout",
          "text": [
            "True\n"
          ]
        }
      ]
    },
    {
      "cell_type": "markdown",
      "source": [
        "# Questão 5: Maximum Number"
      ],
      "metadata": {
        "id": "r2mT7pMWa1Qz"
      }
    },
    {
      "cell_type": "code",
      "source": [
        "text = \"loonbalxballpoon\"\n",
        "\n",
        "def solution(text):\n",
        "  word = \"balloon\"\n",
        "  count_word = {}\n",
        "  for letter in word:\n",
        "    if letter not in count_word:\n",
        "      count_word[letter] = 0\n",
        "    count_word[letter] += 1\n",
        "\n",
        "  count_text = {}\n",
        "  for letter in text:\n",
        "    if letter not in count_text:\n",
        "      count_text[letter] = 0\n",
        "    count_text[letter] += 1\n",
        "\n",
        "  min_words = -1\n",
        "  for key, val in count_word.items():\n",
        "    if key not in count_text:\n",
        "      return 0\n",
        "    word_limit = count_text[key] // val\n",
        "    if min_words < 0 or word_limit < min_words:\n",
        "      min_words = word_limit\n",
        "\n",
        "\n",
        "  return min_words\n",
        "\n",
        "print(solution(text))"
      ],
      "metadata": {
        "colab": {
          "base_uri": "https://localhost:8080/"
        },
        "id": "ykRHsMFsa01X",
        "outputId": "fa017e32-3f8c-4950-a8ff-4b615099f0ac"
      },
      "execution_count": 31,
      "outputs": [
        {
          "output_type": "stream",
          "name": "stdout",
          "text": [
            "2\n"
          ]
        }
      ]
    },
    {
      "cell_type": "markdown",
      "source": [
        "# Questão 6: Majority Elements"
      ],
      "metadata": {
        "id": "p98ZPYl7pN6-"
      }
    },
    {
      "cell_type": "markdown",
      "source": [
        "Solução 1:"
      ],
      "metadata": {
        "id": "4NUBv7M0sBU-"
      }
    },
    {
      "cell_type": "code",
      "source": [
        "nums = [6,5,5]\n",
        "\n",
        "def solution(nums):\n",
        "  nums.sort()\n",
        "  return nums[len(nums)//2]\n",
        "\n",
        "print(solution(nums))"
      ],
      "metadata": {
        "colab": {
          "base_uri": "https://localhost:8080/"
        },
        "id": "3uSL6-_KsD52",
        "outputId": "a0c04101-52aa-47fb-8d2f-3f003d6b01da"
      },
      "execution_count": 44,
      "outputs": [
        {
          "output_type": "stream",
          "name": "stdout",
          "text": [
            "5\n"
          ]
        }
      ]
    },
    {
      "cell_type": "markdown",
      "source": [
        "Solução 2"
      ],
      "metadata": {
        "id": "BWuRWzodtotp"
      }
    },
    {
      "cell_type": "code",
      "source": [
        "nums = [6,5,5]\n",
        "\n",
        "def solution(nums):\n",
        "  count = {}\n",
        "  for num in nums:\n",
        "    if num not in count:\n",
        "      count[num] = 0\n",
        "    count[num] += 1\n",
        "  print(count)\n",
        "\n",
        "  for key, val in count.items():\n",
        "    if val > len(nums)//2:\n",
        "      return count[key]\n",
        "\n",
        "print(solution(nums))\n"
      ],
      "metadata": {
        "colab": {
          "base_uri": "https://localhost:8080/"
        },
        "id": "VGsLSfBjpNSM",
        "outputId": "f2a7ea31-f277-492a-e006-4ddf392bd6c5"
      },
      "execution_count": 38,
      "outputs": [
        {
          "output_type": "stream",
          "name": "stdout",
          "text": [
            "{6: 1, 5: 2}\n",
            "2\n"
          ]
        }
      ]
    },
    {
      "cell_type": "markdown",
      "source": [
        "# Questão 7: Valid Sudoku\n",
        "\n",
        "https://leetcode.com/problems/valid-sudoku/editorial/"
      ],
      "metadata": {
        "id": "9ofBkiEqxNFf"
      }
    },
    {
      "cell_type": "markdown",
      "source": [
        "# Questão 8: Group Anagrams"
      ],
      "metadata": {
        "id": "ePZAtdDh2ZEc"
      }
    },
    {
      "cell_type": "code",
      "source": [
        "strs = [\"eat\",\"tea\",\"tan\",\"ate\",\"nat\",\"bat\"]"
      ],
      "metadata": {
        "id": "G0ZuFTkuxKoJ"
      },
      "execution_count": null,
      "outputs": []
    },
    {
      "cell_type": "markdown",
      "source": [
        "# Questão 9: Divide Array Into Equal Pairs\n"
      ],
      "metadata": {
        "id": "hWzTQ4DoOC9p"
      }
    },
    {
      "cell_type": "markdown",
      "source": [
        "Solução 1"
      ],
      "metadata": {
        "id": "xotZGJ5eONvS"
      }
    },
    {
      "cell_type": "code",
      "source": [
        "nums = [3,2,3,2,2,2]\n",
        "\n",
        "def divideArray(nums):\n",
        "  count = {}\n",
        "  for num in nums:\n",
        "    if num not in count:\n",
        "      count[num] = 0\n",
        "    count[num] += 1\n",
        "\n",
        "  for val in count.values():\n",
        "    if val % 2 != 0:\n",
        "      return False\n",
        "  return True\n",
        "\n",
        "print(divideArray(nums))"
      ],
      "metadata": {
        "colab": {
          "base_uri": "https://localhost:8080/"
        },
        "id": "Rms0_kJuOBoR",
        "outputId": "c3794d8a-b360-49d7-a208-833580d7c5cd"
      },
      "execution_count": 45,
      "outputs": [
        {
          "output_type": "stream",
          "name": "stdout",
          "text": [
            "True\n"
          ]
        }
      ]
    }
  ]
}