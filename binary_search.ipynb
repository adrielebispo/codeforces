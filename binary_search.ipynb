{
  "nbformat": 4,
  "nbformat_minor": 0,
  "metadata": {
    "colab": {
      "provenance": [],
      "authorship_tag": "ABX9TyMiwq1ZFk3HLNuXxwTICUDC",
      "include_colab_link": true
    },
    "kernelspec": {
      "name": "python3",
      "display_name": "Python 3"
    },
    "language_info": {
      "name": "python"
    }
  },
  "cells": [
    {
      "cell_type": "markdown",
      "metadata": {
        "id": "view-in-github",
        "colab_type": "text"
      },
      "source": [
        "<a href=\"https://colab.research.google.com/github/adrielebispo/codeforces/blob/main/binary_search.ipynb\" target=\"_parent\"><img src=\"https://colab.research.google.com/assets/colab-badge.svg\" alt=\"Open In Colab\"/></a>"
      ]
    },
    {
      "cell_type": "markdown",
      "source": [
        "# Questão 1: Bynary Search"
      ],
      "metadata": {
        "id": "fPDYLoY2VU9Z"
      }
    },
    {
      "cell_type": "code",
      "execution_count": 7,
      "metadata": {
        "colab": {
          "base_uri": "https://localhost:8080/"
        },
        "id": "UBcIm4eiVHTW",
        "outputId": "f33f044e-4660-496c-add1-6dd4b058f59b"
      },
      "outputs": [
        {
          "output_type": "stream",
          "name": "stdout",
          "text": [
            "0\n"
          ]
        }
      ],
      "source": [
        "target = 4\n",
        "nums = [4]\n",
        "\n",
        "def solution(nums, target):\n",
        "  start = 0\n",
        "  end = len(nums)-1\n",
        "\n",
        "  while(start <= end):\n",
        "    mid = (start + end) // 2\n",
        "    if target == nums[mid]:\n",
        "      return mid\n",
        "    if target <= nums[mid]:\n",
        "      end = mid-1\n",
        "    elif target >= nums[mid]:\n",
        "      start = mid+1\n",
        "  return -1\n",
        "\n",
        "print(solution(nums, target))"
      ]
    },
    {
      "cell_type": "markdown",
      "source": [
        "# Questão 2: Search Insert Position"
      ],
      "metadata": {
        "id": "FHzjM9BFaaoc"
      }
    },
    {
      "cell_type": "code",
      "source": [
        "nums = [1,3,5,6]\n",
        "target = 5\n",
        "\n",
        "def solution(nums, target):\n",
        "  start = 0\n",
        "  end = len(nums)-1\n",
        "\n",
        "  while(start <= end):\n",
        "    mid = (start + end) // 2\n",
        "    if target == nums[mid]:\n",
        "      return mid\n",
        "    if target <= nums[mid]:\n",
        "      end = mid-1\n",
        "    elif target >= nums[mid]:\n",
        "      start = mid+1\n",
        "  return start\n",
        "\n",
        "print(solution(nums, target))"
      ],
      "metadata": {
        "colab": {
          "base_uri": "https://localhost:8080/"
        },
        "id": "0Ao9s4zMctxI",
        "outputId": "050ee50b-60ff-4e1d-cdd0-96498f6e1e4e"
      },
      "execution_count": 8,
      "outputs": [
        {
          "output_type": "stream",
          "name": "stdout",
          "text": [
            "2\n"
          ]
        }
      ]
    }
  ]
}