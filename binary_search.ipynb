{
  "nbformat": 4,
  "nbformat_minor": 0,
  "metadata": {
    "colab": {
      "provenance": [],
      "authorship_tag": "ABX9TyNv7B73cYCz+qUlrHnWbxkJ",
      "include_colab_link": true
    },
    "kernelspec": {
      "name": "python3",
      "display_name": "Python 3"
    },
    "language_info": {
      "name": "python"
    }
  },
  "cells": [
    {
      "cell_type": "markdown",
      "metadata": {
        "id": "view-in-github",
        "colab_type": "text"
      },
      "source": [
        "<a href=\"https://colab.research.google.com/github/adrielebispo/codeforces/blob/main/binary_search.ipynb\" target=\"_parent\"><img src=\"https://colab.research.google.com/assets/colab-badge.svg\" alt=\"Open In Colab\"/></a>"
      ]
    },
    {
      "cell_type": "markdown",
      "source": [
        "# Questão 1: Bynary Search"
      ],
      "metadata": {
        "id": "fPDYLoY2VU9Z"
      }
    },
    {
      "cell_type": "code",
      "execution_count": 7,
      "metadata": {
        "colab": {
          "base_uri": "https://localhost:8080/"
        },
        "id": "UBcIm4eiVHTW",
        "outputId": "f33f044e-4660-496c-add1-6dd4b058f59b"
      },
      "outputs": [
        {
          "output_type": "stream",
          "name": "stdout",
          "text": [
            "0\n"
          ]
        }
      ],
      "source": [
        "target = 4\n",
        "nums = [4]\n",
        "\n",
        "def solution(nums, target):\n",
        "  start = 0\n",
        "  end = len(nums)-1\n",
        "\n",
        "  while(start <= end):\n",
        "    mid = (start + end) // 2\n",
        "    if target == nums[mid]:\n",
        "      return mid\n",
        "    if target <= nums[mid]:\n",
        "      end = mid-1\n",
        "    elif target >= nums[mid]:\n",
        "      start = mid+1\n",
        "  return -1\n",
        "\n",
        "print(solution(nums, target))"
      ]
    },
    {
      "cell_type": "markdown",
      "source": [
        "# Questão 2: Search Insert Position"
      ],
      "metadata": {
        "id": "FHzjM9BFaaoc"
      }
    },
    {
      "cell_type": "code",
      "source": [
        "nums = [1,3,5,6]\n",
        "target = 5\n",
        "\n",
        "def solution(nums, target):\n",
        "  start = 0\n",
        "  end = len(nums)-1\n",
        "\n",
        "  while(start <= end):\n",
        "    mid = (start + end) // 2\n",
        "    if target == nums[mid]:\n",
        "      return mid\n",
        "    if target <= nums[mid]:\n",
        "      end = mid-1\n",
        "    elif target >= nums[mid]:\n",
        "      start = mid+1\n",
        "  return start\n",
        "\n",
        "print(solution(nums, target))"
      ],
      "metadata": {
        "colab": {
          "base_uri": "https://localhost:8080/"
        },
        "id": "0Ao9s4zMctxI",
        "outputId": "050ee50b-60ff-4e1d-cdd0-96498f6e1e4e"
      },
      "execution_count": 8,
      "outputs": [
        {
          "output_type": "stream",
          "name": "stdout",
          "text": [
            "2\n"
          ]
        }
      ]
    },
    {
      "cell_type": "markdown",
      "source": [
        "# Questão 3: First bad version"
      ],
      "metadata": {
        "id": "dr8IsiTEHakD"
      }
    },
    {
      "cell_type": "markdown",
      "source": [
        "Aqui foi o caso de usar uma funçaõ pra achar se o problema está de um lado ou do outro. Por isso só teve dois ifs"
      ],
      "metadata": {
        "id": "0SN2LP4ZMjBJ"
      }
    },
    {
      "cell_type": "code",
      "source": [
        "n = 5\n",
        "bad = 4\n",
        "\n",
        "def isBadVersion(n):\n",
        "  return n >= bad\n",
        "\n",
        "def solution(n):\n",
        "  start = 1\n",
        "  end = n\n",
        "\n",
        "  while(start < end):\n",
        "    mid = (start + end) // 2\n",
        "    if isBadVersion(mid):\n",
        "      end = mid\n",
        "    else:\n",
        "      start = mid+1\n",
        "  return start\n",
        "\n",
        "print(solution(n))"
      ],
      "metadata": {
        "colab": {
          "base_uri": "https://localhost:8080/"
        },
        "id": "6jnXmKb0HeM9",
        "outputId": "3cde2f79-0305-4e2b-edc4-ac35f44aac63"
      },
      "execution_count": 5,
      "outputs": [
        {
          "output_type": "stream",
          "name": "stdout",
          "text": [
            "1 5\n",
            "4 5\n",
            "4\n"
          ]
        }
      ]
    },
    {
      "cell_type": "markdown",
      "source": [
        "# Questão 4: Valid Perfect Square"
      ],
      "metadata": {
        "id": "V5S9benhQ_Nw"
      }
    },
    {
      "cell_type": "code",
      "source": [
        "num = 144\n",
        "\n",
        "def solution(num):\n",
        "  start = 1\n",
        "  end = num\n",
        "  while (start <= end):\n",
        "    mid = (start + end) // 2\n",
        "    if mid*mid == num:\n",
        "      return True\n",
        "    if mid*mid <= num:\n",
        "      start = mid+1\n",
        "    elif mid*mid >= num:\n",
        "      end = mid-1\n",
        "  return False\n",
        "print(solution(num))"
      ],
      "metadata": {
        "colab": {
          "base_uri": "https://localhost:8080/"
        },
        "id": "cyfqut1xQ-lJ",
        "outputId": "c8068438-cfff-4c6b-d2f6-47de6b73ac7d"
      },
      "execution_count": 16,
      "outputs": [
        {
          "output_type": "stream",
          "name": "stdout",
          "text": [
            "True\n"
          ]
        }
      ]
    }
  ]
}