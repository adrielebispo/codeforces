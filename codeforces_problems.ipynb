{
  "cells": [
    {
      "cell_type": "code",
      "execution_count": null,
      "metadata": {
        "id": "kCOibY1iFKVP"
      },
      "outputs": [],
      "source": [
        "# A. My First Sorting Problem\n",
        "t = int(input())\n",
        "for _ in range(t):\n",
        "  s = [int(x) for x in input().split(' ')]\n",
        "  menor = s[0]\n",
        "  maior = s[0]\n",
        "  for i in range(len(s)):\n",
        "    if s[i] < menor:\n",
        "      menor = s[i]\n",
        "    else:\n",
        "      maior = s[i]\n",
        "\n",
        "  print(menor, maior)\n",
        "\n"
      ]
    },
    {
      "cell_type": "code",
      "execution_count": null,
      "metadata": {
        "id": "EEUxktkPGgL9"
      },
      "outputs": [],
      "source": [
        "# B. Different String\n",
        "t = int(input())\n",
        "for _ in range(t):\n",
        "  s = input()\n",
        "  same = False\n",
        "\n",
        "  for i in range(1, len(s)):\n",
        "    if s[i-1] == s[i]:\n",
        "      same = True\n",
        "    else:\n",
        "      same = False\n",
        "      break\n",
        "\n",
        "  if len(s) == 1 or same:\n",
        "    print('NO')\n",
        "  else:\n",
        "    l = list(s)\n",
        "    for i in range(1, len(s)):\n",
        "      l[i-1], l[i] = l[i], l[i-1]\n",
        "    str1 = ''.join(l)\n",
        "    print('YES')\n",
        "    print(str1)\n",
        "\n"
      ]
    },
    {
      "cell_type": "code",
      "execution_count": null,
      "metadata": {
        "id": "8xCu-s8FNlwu"
      },
      "outputs": [],
      "source": [
        "# C. Clock and Strings\n",
        "t = int(input())\n",
        "for _ in range(t):\n",
        "  s = [int(x) for x in input().split(' ')]\n",
        "  a = s[0]\n",
        "  b = s[1]\n",
        "  c = s[2]\n",
        "  d = s[3]\n",
        "  ans = ''\n",
        "  for i in range(1, 12+1):\n",
        "    if i == a or i == b:\n",
        "      ans += 'a'\n",
        "    if i == c or i == d:\n",
        "      ans += 'b'\n",
        "  if ans == 'abab' or ans == 'baba':\n",
        "    print('YES')\n",
        "  else:\n",
        "    print('NO')\n"
      ]
    },
    {
      "cell_type": "code",
      "execution_count": null,
      "metadata": {
        "id": "SSsITFIZfr3l"
      },
      "outputs": [],
      "source": [
        "# D - Binary Cut\n",
        "t = int(input())\n",
        "for _ in range(t):\n",
        "  s = input()\n",
        "  cont = 1\n",
        "  ex = 0\n",
        "  for i in range(1, len(s)):\n",
        "    if s[i-1] == s[i]:\n",
        "      pass\n",
        "    else:\n",
        "      cont += 1\n",
        "      if s[i-1] == '0' and s[i] == '1':\n",
        "        ex = 1\n",
        "\n",
        "  ans = cont - ex\n",
        "  print(ans)"
      ]
    },
    {
      "cell_type": "code",
      "source": [
        "# B. Two-gram\n",
        "t = int(input())\n",
        "s = input()\n",
        "ans = []\n",
        "r = ''\n",
        "for i in range(1, len(s)):\n",
        "  ans.append(s[i-1]+s[i])\n",
        "\n",
        "count = {}\n",
        "\n",
        "for i in range(len(ans)):\n",
        "  if ans[i] not in count.keys():\n",
        "    count[ans[i]] = 0\n",
        "  count[ans[i]] += 1\n",
        "\n",
        "max_key = 0\n",
        "max_val = 0\n",
        "for key, val in count.items():\n",
        "  if max_val == 0 or val > max_val:\n",
        "    max_key = key\n",
        "    max_val = val\n",
        "print(max_key)"
      ],
      "metadata": {
        "id": "6fIMok78Upp1"
      },
      "execution_count": null,
      "outputs": []
    },
    {
      "cell_type": "code",
      "source": [
        "# A. Remove Duplicates\n",
        "n = int(input())\n",
        "s = [int(x) for x in input().split(' ')]\n",
        "ans = []\n",
        "for i in range(n-1, -1, -1):\n",
        "  if s[i] not in ans:\n",
        "    ans.append(s[i])\n",
        "r = ''\n",
        "for i in range(len(ans)-1, -1, -1):\n",
        "  r += str(ans[i]) + ' '\n",
        "print(len(ans))\n",
        "print(r)"
      ],
      "metadata": {
        "id": "P66n2_1UUwUf"
      },
      "execution_count": null,
      "outputs": []
    },
    {
      "cell_type": "code",
      "source": [
        "# A. Diverse Team\n",
        "l = [int(x) for x in input().split(' ')]\n",
        "n, k = l[0], l[1]\n",
        "s = [int(x) for x in input().split(' ')]\n",
        "\n",
        "ans = {}\n",
        "\n",
        "for i in range(n):\n",
        "  if s[i] not in ans.keys():\n",
        "    ans[s[i]] = i+1\n",
        "\n",
        "x = len(ans)\n",
        "if x < k:\n",
        "  print('NO')\n",
        "else:\n",
        "  print('YES')\n",
        "  r = ''\n",
        "  tam = 0\n",
        "  for val in ans.values():\n",
        "    r += str(val) + ' '\n",
        "    tam += 1\n",
        "    if tam >= k:\n",
        "      break\n",
        "  print(r)"
      ],
      "metadata": {
        "id": "vmQ8UaFdU0xu"
      },
      "execution_count": null,
      "outputs": []
    },
    {
      "cell_type": "code",
      "source": [
        "# B. Same Parity Summands\n",
        "\n",
        "t = int(input())\n",
        "\n",
        "for _ in range(t):\n",
        "  s = [int(x) for x in input().split(' ')]\n",
        "  n, k = s[0], s[1]\n",
        "\n",
        "  n1 = n - (k-1)\n",
        "  n2 = n - 2*(k -1)\n",
        "  ans = ''\n",
        "\n",
        "  if n1 > 0 and n1 % 2 == 1:\n",
        "    print('YES')\n",
        "    for i in range(k-1):\n",
        "      ans += '1 '\n",
        "    ans += str(n1)\n",
        "    print(ans)\n",
        "  elif n2 > 0 and n2 % 2 == 0:\n",
        "    print('YES')\n",
        "    for i in range(k-1):\n",
        "      ans += '2 '\n",
        "    ans += str(n2)\n",
        "    print(ans)\n",
        "  else:\n",
        "    print('NO')"
      ],
      "metadata": {
        "id": "h5v3ALY-U5ow"
      },
      "execution_count": null,
      "outputs": []
    },
    {
      "cell_type": "code",
      "source": [
        "# B. All Distinct\n",
        "t = int(input())\n",
        "for _ in range(t):\n",
        "  n = int(input())\n",
        "  nums = [int(x) for x in input().split(' ')]\n",
        "\n",
        "  ans = []\n",
        "\n",
        "  for i in range(n):\n",
        "    if nums[i] not in ans:\n",
        "      ans.append(nums[i])\n",
        "  if (n-len(ans)) % 2 == 0:\n",
        "    print(len(ans))\n",
        "  else:\n",
        "    print(len(ans)-1)"
      ],
      "metadata": {
        "id": "1PePYDexU9Fr"
      },
      "execution_count": null,
      "outputs": []
    },
    {
      "cell_type": "code",
      "source": [
        "# C. Cypher\n",
        "t = int(input())\n",
        "for _ in range(t):\n",
        "  n = int(input())\n",
        "  nums = [int(x) for x in input().split(' ')]\n",
        "  a = []\n",
        "  b = []\n",
        "  for i in range(n):\n",
        "    s = [x for x in input().split(' ')]\n",
        "    a.append(int(s[0]))\n",
        "    b.append(s[1])\n",
        "\n",
        "  ans = ''\n",
        "\n",
        "  for i in range(n):\n",
        "    cont = nums[i]\n",
        "    for k in range(len(b[i])):\n",
        "      if b[i][k] == 'D':\n",
        "        cont += 1\n",
        "      else:\n",
        "        cont -= 1\n",
        "    if cont > 9:\n",
        "      cont -= 10\n",
        "    if cont < 0:\n",
        "      cont += 10\n",
        "    ans += str(cont) + ' '\n",
        "  print(ans)"
      ],
      "metadata": {
        "id": "N7IYS0JXVD3U"
      },
      "execution_count": null,
      "outputs": []
    },
    {
      "cell_type": "code",
      "source": [
        "# A. System of Equations\n",
        "nums = [int(x) for x in input().split(' ')]\n",
        "n = nums[0]\n",
        "m = nums[1]\n",
        "maxi=max(n,m)\n",
        "count = 0\n",
        "for i in range(maxi + 1):\n",
        "  for j in range(maxi + 1):\n",
        "    if (i*i + j == n) and (i + j*j == m):\n",
        "      count += 1\n",
        "print(count)"
      ],
      "metadata": {
        "id": "PypwvKA8VHG8"
      },
      "execution_count": null,
      "outputs": []
    },
    {
      "cell_type": "code",
      "source": [
        "# A. Recovering a Small String\n",
        "t = int(input())\n",
        "for _ in range(t):\n",
        "  n = int(input())\n",
        "  a = 26\n",
        "\n",
        "  ans = 'zzz'\n",
        "  resp = ''\n",
        "\n",
        "  for i in range(a):\n",
        "    for j in range(a):\n",
        "      for k in range(a):\n",
        "        if i + j + k + 3 == n:\n",
        "          resp += chr(i + ord('a'))\n",
        "          resp += chr(j + ord('a'))\n",
        "          resp += chr(k + ord('a'))\n",
        "          ans = min(ans, resp)\n",
        "  print(ans)"
      ],
      "metadata": {
        "id": "LsQ-gHRoVKT9"
      },
      "execution_count": null,
      "outputs": []
    },
    {
      "cell_type": "code",
      "source": [
        "#A. Round Down the Price\n",
        "t = int(input())\n",
        "for _ in range(t):\n",
        "  m = int(input())\n",
        "  n = str(m)\n",
        "  k = len(n) - 1\n",
        "\n",
        "  resp = abs(10**k - m)\n",
        "\n",
        "  print(resp)"
      ],
      "metadata": {
        "id": "nxBQygmfVN81"
      },
      "execution_count": null,
      "outputs": []
    },
    {
      "cell_type": "code",
      "source": [
        "# A. Sasha and Array Coloring\n",
        "t = int(input())\n",
        "for _ in range(t):\n",
        "  n = int(input())\n",
        "  a = [int(x) for x in input().split(' ')]\n",
        "  a.sort()\n",
        "  ans = 0\n",
        "  for i in range(n // 2):\n",
        "    ans += a[-i-1] - a[i]\n",
        "  print(ans)"
      ],
      "metadata": {
        "id": "gBCBJ0ZaVSD4"
      },
      "execution_count": null,
      "outputs": []
    },
    {
      "cell_type": "code",
      "source": [
        "# C. Odd/Even Increments\n",
        "\n",
        "t = int(input())\n",
        "for _ in range(t):\n",
        "  n = int(input())\n",
        "  a = [int(x) for x in input().split(' ')]\n",
        "  even1 = False\n",
        "  even2 = False\n",
        "  odd1 = False\n",
        "  odd2 = False\n",
        "  for i in range(n):\n",
        "    if i % 2 == 0:\n",
        "      if a[i] % 2 == 1:\n",
        "        odd1 = True\n",
        "      else:\n",
        "        even1 = True\n",
        "    else:\n",
        "      if a[i] % 2 == 1:\n",
        "        odd2 = True\n",
        "      else:\n",
        "        even2 = True\n",
        "\n",
        "  if even1 and odd1:\n",
        "    print('NO')\n",
        "  elif even2 and odd2:\n",
        "    print('NO')\n",
        "  else:\n",
        "    print('YES')"
      ],
      "metadata": {
        "id": "0Z5XYSb3f0Hv"
      },
      "execution_count": null,
      "outputs": []
    },
    {
      "cell_type": "code",
      "source": [
        "# A. QAQ\n",
        "\n",
        "s = input()\n",
        "n = len(s)\n",
        "sum = 0\n",
        "for i in range(n):\n",
        "  if s[i] == 'A':\n",
        "    sum += s[i:].count('Q') * s[:i].count('Q')\n",
        "print(sum)"
      ],
      "metadata": {
        "colab": {
          "base_uri": "https://localhost:8080/"
        },
        "id": "V4P-f2Q0nQ6C",
        "outputId": "cd8e39f2-98a5-4c2e-a1b9-60fb0516dcc3"
      },
      "execution_count": null,
      "outputs": [
        {
          "output_type": "stream",
          "name": "stdout",
          "text": [
            "4\n"
          ]
        }
      ]
    },
    {
      "cell_type": "code",
      "source": [
        "\n",
        "s = input()\n",
        "passouQ = False\n",
        "cont = 0\n",
        "contQ = 0\n",
        "for i in range(len(s)):\n",
        "  if s[i] == 'Q':\n",
        "    passouQ = True\n",
        "    contQ += 1\n",
        "  if s[i] == 'A' and passouQ:\n",
        "    cont += 1\n",
        "    passouQ = False\n",
        "\n",
        "print((cont*contQ)-cont)"
      ],
      "metadata": {
        "colab": {
          "base_uri": "https://localhost:8080/"
        },
        "id": "M5GLuH4hhkRX",
        "outputId": "6194080e-8716-46a8-96a5-4e0b0fab412f"
      },
      "execution_count": null,
      "outputs": [
        {
          "output_type": "stream",
          "name": "stdout",
          "text": [
            "4\n"
          ]
        }
      ]
    },
    {
      "cell_type": "code",
      "source": [
        "# A. Replacing Elements\n",
        "t = int(input())\n",
        "for _ in range(t):\n",
        "  s = [int(x) for x in input().split(' ')]\n",
        "  n = s[0]\n",
        "  d = s[1]\n",
        "  a = [int(x) for x in input().split(' ')]\n",
        "  a.sort()\n",
        "  for i in a:\n",
        "    if i > d:\n",
        "      if a[0] + a[1] <= d:\n",
        "        print(\"YES\")\n",
        "        break\n",
        "      else:\n",
        "        print(\"NO\")\n",
        "        break\n",
        "  else:\n",
        "    print(\"YES\")"
      ],
      "metadata": {
        "id": "O0_a62LakRHJ"
      },
      "execution_count": null,
      "outputs": []
    },
    {
      "cell_type": "code",
      "source": [
        "a = [2, 3, 2, 5, 4]\n",
        "n = 5\n",
        "d = 3\n",
        "\n",
        "sum_maior = 0\n",
        "sum_menor = 0\n",
        "\n",
        "for i in range(n):\n",
        "  if a[i] > d:\n",
        "    sum_maior += abs(a[i]-d)\n",
        "  if a[i] <= d:\n",
        "    sum_menor += abs(d - a[i])\n",
        "print(sum_menor, sum_maior)\n",
        "if sum_maior <= sum_menor:\n",
        "  print('YES')\n",
        "else:\n",
        "  print('NO')"
      ],
      "metadata": {
        "id": "_Ze5Gsuim9Md"
      },
      "execution_count": null,
      "outputs": []
    },
    {
      "cell_type": "code",
      "source": [
        "# A. Cipher Shifer\n",
        "t = int(input())\n",
        "for _ in range(t):\n",
        "  n = int(input())\n",
        "  s = input()\n",
        "\n",
        "  ans = ''\n",
        "  letra = s[0]\n",
        "  count = 0\n",
        "  for i in range(n):\n",
        "    if s[i] == letra:\n",
        "      if count == 0:\n",
        "        count +=1\n",
        "      elif count > 0:\n",
        "        ans += letra\n",
        "        if i < n-1:\n",
        "          letra = s[i+1]\n",
        "        count = 0\n",
        "\n",
        "  print(ans)\n",
        "\n",
        ""
      ],
      "metadata": {
        "id": "00M4qe3SaLC-"
      },
      "execution_count": null,
      "outputs": []
    },
    {
      "cell_type": "code",
      "source": [
        "# A. Print a Pedestal (Codeforces logo?)\n",
        "import math\n",
        "t = int(input())\n",
        "for _ in range(t):\n",
        "  n = int(input())\n",
        "  for i in range(3, n):\n",
        "    a = math.ceil(n/3)\n",
        "    b = a +1\n",
        "    c  = n - (a+b)\n",
        "    if c == 0:\n",
        "      a -=1\n",
        "      c +=1\n",
        "  print(a, b, c)\n"
      ],
      "metadata": {
        "id": "P9EkO1DlkE8P"
      },
      "execution_count": null,
      "outputs": []
    },
    {
      "cell_type": "code",
      "source": [
        "# C. Where's the Bishop?\n",
        "t = int(input())\n",
        "\n",
        "for _ in range(t):\n",
        "  sp = input()\n",
        "  pos = []\n",
        "  for i in range(8):\n",
        "    pos.append(input())\n",
        "\n",
        "  def acha_linha(pos, linha):\n",
        "    cont = 0\n",
        "    abriu = False\n",
        "    fechou = False\n",
        "    for coluna in range(len(pos[linha])):\n",
        "      if pos[linha][coluna] == '#' and cont == 0:\n",
        "        abriu = True\n",
        "      if abriu:\n",
        "        cont += 1\n",
        "      if pos[linha][coluna] == '#' and cont > 1:\n",
        "        fechou = True\n",
        "\n",
        "    return abriu and fechou\n",
        "\n",
        "  def acha_coluna(pos, linha):\n",
        "    for coluna in range(len(pos[linha])):\n",
        "      if pos[linha][coluna] == '#':\n",
        "        return coluna\n",
        "\n",
        "  for linha in range(1,len(pos)-1): # i são as linhas\n",
        "    if (acha_linha(pos, linha-1) and acha_linha(pos, linha+1) and not acha_linha(pos, linha)):\n",
        "      print(linha+1, acha_coluna(pos, linha)+1)\n",
        ""
      ],
      "metadata": {
        "id": "jG4zfRuK-dr5"
      },
      "execution_count": null,
      "outputs": []
    },
    {
      "cell_type": "code",
      "source": [
        "# B. Arranging Cats\n",
        "t = int(input())\n",
        "for _ in range(t):\n",
        "  n = int(input())\n",
        "  start = [int(x) for x in input()]1\n",
        "  finish = [int(x) for x in input()]\n",
        "  pairs = list(zip(start, finish))\n",
        "  add_amnt = sum(int(a < b) for a, b in pairs)\n",
        "  rmv_amnt = sum(int(a > b) for a, b in pairs)\n",
        "  print(max(add_amnt, rmv_amnt))"
      ],
      "metadata": {
        "id": "vrDnDOfVIst_"
      },
      "execution_count": null,
      "outputs": []
    },
    {
      "cell_type": "code",
      "source": [
        "# A. I'm bored with life\n",
        "s = [int(x) for x in input().split(' ')]\n",
        "a = s[0]\n",
        "b = s[1]\n",
        "n = min(a, b)\n",
        "fat = 1\n",
        "for i in range(1, n+1):\n",
        "  fat *= i\n",
        "print(fat)"
      ],
      "metadata": {
        "id": "IJ0eFsjqZfZr"
      },
      "execution_count": null,
      "outputs": []
    },
    {
      "cell_type": "code",
      "source": [
        "def gcd(a, b):\n",
        "  while b != 0:\n",
        "    a = b\n",
        "    b = a % b\n",
        "  return a\n",
        "\n",
        "gcd(81,9)"
      ],
      "metadata": {
        "id": "JjFpKTnJakks"
      },
      "execution_count": null,
      "outputs": []
    },
    {
      "cell_type": "code",
      "source": [
        "# A. Polycarp and Sums of Subsequences\n",
        "t = int(input())\n",
        "for _ in range(t):\n",
        "  b = [int(x) for x in input().split(' ')]\n",
        "  print(b[0], b[1], b[6] - b[0] - b[1])\n",
        ""
      ],
      "metadata": {
        "id": "0EImkDPeesEH"
      },
      "execution_count": null,
      "outputs": []
    },
    {
      "cell_type": "code",
      "source": [
        "# A. Food for Animals\n",
        "t = int(input())\n",
        "for _ in range(t):\n",
        "  s = [int(x) for x in input().split(' ')]\n",
        "  a = s[0]\n",
        "  b = s[1]\n",
        "  c = s[2]\n",
        "  x = s[3]\n",
        "  y = s[4]\n",
        "\n",
        "  dog = x- a\n",
        "  cat = y - b\n",
        "\n",
        "  if dog < 0:\n",
        "    dog = 0\n",
        "  if cat < 0:\n",
        "    cat = 0\n",
        "\n",
        "  if dog > 0 or cat > 0:\n",
        "    if c >= dog + cat:\n",
        "      print('YES')\n",
        "    else:\n",
        "      print('NO')\n",
        "  else:\n",
        "    print('YES')"
      ],
      "metadata": {
        "id": "vJFah7BHBZ2p"
      },
      "execution_count": null,
      "outputs": []
    },
    {
      "cell_type": "code",
      "source": [
        "# A. Combination Lock\n",
        "\n",
        "t = int(input())\n",
        "a = [int(x) for x in input()]\n",
        "b = [int(x) for x in input()]\n",
        "ans = 0\n",
        "for i in range(len(a)):\n",
        "  ans += (min(abs(a[i] - b[i]), 10 - abs(a[i] - b[i])))\n",
        "print(ans)"
      ],
      "metadata": {
        "id": "q6zzUb-PFd7m"
      },
      "execution_count": null,
      "outputs": []
    },
    {
      "cell_type": "code",
      "source": [
        "# 1372A - Omkar and Completion\n",
        "t = int(input())\n",
        "for _ in range(t):\n",
        "  n = int(input())\n",
        "  ans = ''\n",
        "  for i in range(n):\n",
        "    ans += '1' + ' '\n",
        "  print(ans)\n"
      ],
      "metadata": {
        "id": "sX1dcQH2Ri_I"
      },
      "execution_count": null,
      "outputs": []
    },
    {
      "cell_type": "code",
      "source": [
        "from inspect import formatannotation\n",
        "# A. Gift Carpet\n",
        "t = int(input())\n",
        "for _ in range(t):\n",
        "  s = [int(x) for x in input().split(' ')]\n",
        "  n = s[0]\n",
        "  m = s[1]\n",
        "\n",
        "  a = []\n",
        "  for i in range(n):\n",
        "    a.append(input())\n",
        "\n",
        "  b = []\n",
        "\n",
        "  achou_v = False\n",
        "  achou_i = False\n",
        "  achou_k = False\n",
        "  achou_a = False\n",
        "\n",
        "  for j in range(len(a[i])):\n",
        "    item = ''\n",
        "    for i in range(n):\n",
        "      item += a[i][j]\n",
        "    b.append(item)\n",
        "\n",
        "  for i in range(len(b)):\n",
        "    if not achou_v and 'v' in b[i]:\n",
        "      achou_v = True\n",
        "      continue\n",
        "    if achou_v:\n",
        "      if not achou_i and 'i' in b[i]:\n",
        "        achou_i = True\n",
        "        continue\n",
        "      if achou_i:\n",
        "        if not achou_k and 'k' in b[i]:\n",
        "          achou_k = True\n",
        "          continue\n",
        "        if achou_k:\n",
        "          if 'a' in b[i]:\n",
        "            achou_a = True\n",
        "            continue\n",
        "\n",
        "  if achou_v and achou_i and achou_k and achou_a:\n",
        "    print('YES')\n",
        "  else:\n",
        "    print('NO')\n",
        "\n",
        "\n"
      ],
      "metadata": {
        "id": "VuFpmjfSSm5V"
      },
      "execution_count": null,
      "outputs": []
    },
    {
      "cell_type": "code",
      "source": [
        "# A. Dense Array\n",
        "t = int(input())\n",
        "for _ in range(t):\n",
        "  n = int(input())\n",
        "  a = [int(x) for x in input().split(' ')]\n",
        "  ans = 0\n",
        "  i = 1\n",
        "  for i in range(n-1):\n",
        "    x = min(a[i], a[i + 1])\n",
        "    y = max(a[i], a[i + 1])\n",
        "    while x * 2 < y:\n",
        "      x *= 2\n",
        "      ans += 1\n",
        "  print(ans)"
      ],
      "metadata": {
        "id": "GSvnsMPYtjri"
      },
      "execution_count": null,
      "outputs": []
    },
    {
      "cell_type": "code",
      "source": [],
      "metadata": {
        "id": "E8PcSbocw7Zm"
      },
      "execution_count": null,
      "outputs": []
    }
  ],
  "metadata": {
    "colab": {
      "provenance": [],
      "authorship_tag": "ABX9TyMwaPG8wl2FsmSeUQjdGb7e"
    },
    "kernelspec": {
      "display_name": "Python 3",
      "name": "python3"
    },
    "language_info": {
      "name": "python"
    }
  },
  "nbformat": 4,
  "nbformat_minor": 0
}