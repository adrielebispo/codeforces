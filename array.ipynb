{
  "nbformat": 4,
  "nbformat_minor": 0,
  "metadata": {
    "colab": {
      "provenance": [],
      "authorship_tag": "ABX9TyP6qTEuvIUlyHpp4Xr/pwNa",
      "include_colab_link": true
    },
    "kernelspec": {
      "name": "python3",
      "display_name": "Python 3"
    },
    "language_info": {
      "name": "python"
    }
  },
  "cells": [
    {
      "cell_type": "markdown",
      "metadata": {
        "id": "view-in-github",
        "colab_type": "text"
      },
      "source": [
        "<a href=\"https://colab.research.google.com/github/adrielebispo/codeforces/blob/main/array.ipynb\" target=\"_parent\"><img src=\"https://colab.research.google.com/assets/colab-badge.svg\" alt=\"Open In Colab\"/></a>"
      ]
    },
    {
      "cell_type": "markdown",
      "source": [
        "# Questão 1: Longest Nice Subarray"
      ],
      "metadata": {
        "id": "PVGGeuCu8zvk"
      }
    },
    {
      "cell_type": "code",
      "source": [
        "\n",
        "def mergeAlternately(self, word1: str, word2: str) -> str:\n",
        "  word = ''\n",
        "  l = 0\n",
        "  r = 0\n",
        "  for i in range(max(len(word1), len(word2))):\n",
        "    if l <= len(word1)-1:\n",
        "      word += word1[l]\n",
        "      l += 1\n",
        "    if r <= len(word2)-1:\n",
        "      word += word2[r]\n",
        "      r += 1\n",
        "\n",
        "  return word"
      ],
      "metadata": {
        "id": "NPA78QbZs11p"
      },
      "execution_count": null,
      "outputs": []
    },
    {
      "cell_type": "markdown",
      "source": [
        "# Questão 2: Is subsequence"
      ],
      "metadata": {
        "id": "zRqxcMzNs-08"
      }
    },
    {
      "cell_type": "code",
      "source": [
        "s = \"cba\"\n",
        "t = \"sslkdchtba\"\n",
        "#    -----^--^^\n",
        "def solution(s, t):\n",
        "  pos_s = 0\n",
        "  pos_t = 0\n",
        "  while (pos_s < len(s) and pos_t < len(t)):\n",
        "    if s[pos_s] == t[pos_t]:\n",
        "      pos_s += 1\n",
        "      pos_t += 1\n",
        "    else:\n",
        "      pos_t += 1\n",
        "\n",
        "  if pos_s == len(s):\n",
        "    return True\n",
        "  return False\n",
        "\n",
        "print(solution(s, t))\n",
        "\n",
        "\n"
      ],
      "metadata": {
        "id": "8FM2pMzK87v0",
        "colab": {
          "base_uri": "https://localhost:8080/"
        },
        "outputId": "56cd9a8f-05ed-42cd-95fb-12a4f2c50a6d"
      },
      "execution_count": 1,
      "outputs": [
        {
          "output_type": "stream",
          "name": "stdout",
          "text": [
            "True\n"
          ]
        }
      ]
    },
    {
      "cell_type": "markdown",
      "source": [
        "# Questão 3: Find Closest Number to Zero"
      ],
      "metadata": {
        "id": "IRjkg2TDMPGL"
      }
    },
    {
      "cell_type": "code",
      "source": [
        "nums = [2,-1,1]\n",
        "\n",
        "def solution(nums):\n",
        "  closest_value = nums[0]\n",
        "  for i in range(len(nums)):\n",
        "    if abs(nums[i]) < abs(closest_value):\n",
        "      closest_value = nums[i]\n",
        "    if abs(nums[i]) == abs(closest_value) and nums[i] > closest_value:\n",
        "      closest_value = nums[i]\n",
        "  return closest_value\n",
        "\n",
        "print(solution(nums))"
      ],
      "metadata": {
        "id": "JZ8pN_MVMTA4",
        "outputId": "a88a4409-d17a-4bf7-e692-859683a49fbe",
        "colab": {
          "base_uri": "https://localhost:8080/"
        }
      },
      "execution_count": 17,
      "outputs": [
        {
          "output_type": "stream",
          "name": "stdout",
          "text": [
            "1\n"
          ]
        }
      ]
    },
    {
      "cell_type": "markdown",
      "source": [
        "# Questão 4: Merge Strings Alternately"
      ],
      "metadata": {
        "id": "RTMBCNpZSW7L"
      }
    },
    {
      "cell_type": "code",
      "source": [
        "def mergeAlternately(word1, word2):\n",
        "    word = ''\n",
        "    l = 0\n",
        "    r = 0\n",
        "    for i in range(max(len(word1), len(word2))):\n",
        "        if l <= len(word1)-1:\n",
        "            word += word1[l]\n",
        "            l += 1\n",
        "        if r <= len(word2)-1:\n",
        "            word += word2[r]\n",
        "            r += 1\n",
        "\n",
        "    return word"
      ],
      "metadata": {
        "id": "FGutSt4CSbG7"
      },
      "execution_count": null,
      "outputs": []
    }
  ]
}