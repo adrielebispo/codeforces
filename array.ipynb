{
  "nbformat": 4,
  "nbformat_minor": 0,
  "metadata": {
    "colab": {
      "provenance": [],
      "authorship_tag": "ABX9TyN7GIPC0r9pPH60J6yp6agT",
      "include_colab_link": true
    },
    "kernelspec": {
      "name": "python3",
      "display_name": "Python 3"
    },
    "language_info": {
      "name": "python"
    }
  },
  "cells": [
    {
      "cell_type": "markdown",
      "metadata": {
        "id": "view-in-github",
        "colab_type": "text"
      },
      "source": [
        "<a href=\"https://colab.research.google.com/github/adrielebispo/codeforces/blob/main/array.ipynb\" target=\"_parent\"><img src=\"https://colab.research.google.com/assets/colab-badge.svg\" alt=\"Open In Colab\"/></a>"
      ]
    },
    {
      "cell_type": "markdown",
      "source": [
        "# Questão 1: Longest Nice Subarray"
      ],
      "metadata": {
        "id": "PVGGeuCu8zvk"
      }
    },
    {
      "cell_type": "code",
      "source": [],
      "metadata": {
        "id": "8FM2pMzK87v0"
      },
      "execution_count": null,
      "outputs": []
    }
  ]
}